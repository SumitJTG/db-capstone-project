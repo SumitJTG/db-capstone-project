{
 "cells": [
  {
   "cell_type": "code",
   "execution_count": 75,
   "id": "3013796e-e668-4deb-8f36-9e826c2fe41b",
   "metadata": {},
   "outputs": [],
   "source": [
    "!pip install mysql-connector-python"
   ]
  },
  {
   "cell_type": "code",
   "execution_count": 76,
   "id": "2a1b4f58-c6d1-4c67-91de-6710e23f6bce",
   "metadata": {},
   "outputs": [],
   "source": [
    "import mysql.connector as connector"
   ]
  },
  {
   "cell_type": "code",
   "execution_count": 77,
   "id": "b3026e2b-6835-452b-9a07-68c9c2d8aaed",
   "metadata": {},
   "outputs": [],
   "source": [
    "connection = connector.connect(user = \"\", password = \"\", db = \"littlelemondb\")"
   ]
  },
  {
   "cell_type": "code",
   "execution_count": 78,
   "id": "df191e25-f6b4-4ae1-a8ca-55937e2285ea",
   "metadata": {},
   "outputs": [],
   "source": [
    "cursor = connection.cursor()"
   ]
  },
  {
   "cell_type": "code",
   "execution_count": 79,
   "id": "f4c734b5-643f-4fc5-8405-8b89a9474ce9",
   "metadata": {},
   "outputs": [],
   "source": [
    "cursor.execute(\"SHOW TABLES\")"
   ]
  },
  {
   "cell_type": "code",
   "execution_count": 80,
   "id": "9ec9c575-bcb2-45ca-9db2-b2b6203132f6",
   "metadata": {},
   "outputs": [],
   "source": [
    "results = cursor.fetchall()"
   ]
  },
  {
   "cell_type": "code",
   "execution_count": 81,
   "id": "d74e14c6-1e2d-41ac-ad2a-40b24baccfba",
   "metadata": {},
   "outputs": [
    {
     "name": "stdout",
     "output_type": "stream",
     "text": [
      "[('bookings',), ('checktemp',), ('checktemp2',), ('checktemp3',), ('checktemp4',), ('checktemp5',), ('customerdetails',), ('menu',), ('orderdeliverystatus',), ('orders',), ('ordersview8',), ('ordersview9',), ('staff',), ('staffinformation',)]\n"
     ]
    }
   ],
   "source": [
    "print(results)"
   ]
  },
  {
   "cell_type": "code",
   "execution_count": 82,
   "id": "15e7fffb-7aaa-4352-854a-95423b518644",
   "metadata": {},
   "outputs": [],
   "source": [
    "query_string_for_module3_part2_task3 = \"SELECT DISTINCT CONCAT(CustomerFirstName, \\\" \\\", CustomerLastName) AS CustomerFullName, ContactDetails FROM CustomerDetails \\\n",
    "INNER JOIN Bookings ON CustomerDetails.CustomerID = Bookings.CustomerID \\\n",
    "INNER JOIN Orders ON Orders.BookingID = Bookings.BookingID \\\n",
    "WHERE Orders.TotalCost > 60\""
   ]
  },
  {
   "cell_type": "code",
   "execution_count": 83,
   "id": "6d3fd246-d098-4809-a715-004a5e8cd0de",
   "metadata": {},
   "outputs": [],
   "source": [
    "cursor.execute(query_string_for_module3_part2_task3)"
   ]
  },
  {
   "cell_type": "code",
   "execution_count": 84,
   "id": "1473f6ac-b69c-4697-9924-ab32df44788e",
   "metadata": {},
   "outputs": [],
   "source": [
    "results2 = cursor.fetchall()"
   ]
  },
  {
   "cell_type": "code",
   "execution_count": 85,
   "id": "edd94e78-1bbc-4635-ac3d-6c5a516f2d1f",
   "metadata": {},
   "outputs": [
    {
     "name": "stdout",
     "output_type": "stream",
     "text": [
      "[('Name1 LN1', '123'), ('Name3 LN3', '789'), ('Name2 LN2', '456'), ('fn5 ln4', '4123')]\n"
     ]
    }
   ],
   "source": [
    "print(results2)"
   ]
  },
  {
   "cell_type": "code",
   "execution_count": null,
   "id": "8980db5b-dd2a-472c-af44-fb5331e8674e",
   "metadata": {},
   "outputs": [],
   "source": []
  }
 ],
 "metadata": {
  "kernelspec": {
   "display_name": "Python 3 (ipykernel)",
   "language": "python",
   "name": "python3"
  },
  "language_info": {
   "codemirror_mode": {
    "name": "ipython",
    "version": 3
   },
   "file_extension": ".py",
   "mimetype": "text/x-python",
   "name": "python",
   "nbconvert_exporter": "python",
   "pygments_lexer": "ipython3",
   "version": "3.12.6"
  }
 },
 "nbformat": 4,
 "nbformat_minor": 5
}
